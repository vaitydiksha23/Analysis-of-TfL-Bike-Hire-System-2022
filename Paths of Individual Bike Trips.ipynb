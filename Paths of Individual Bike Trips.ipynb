{
 "cells": [
  {
   "cell_type": "code",
   "execution_count": 1,
   "metadata": {
    "ExecuteTime": {
     "end_time": "2018-11-28T20:43:51.493157Z",
     "start_time": "2018-11-28T20:43:49.755701Z"
    }
   },
   "outputs": [],
   "source": [
    "from PIL import Image, ImageDraw, ImageFont\n",
    "import numpy as np\n",
    "import pandas as pd\n",
    "import folium\n",
    "from folium import plugins\n",
    "import matplotlib.pyplot as plt\n",
    "import matplotlib.colors\n",
    "from matplotlib.colors import LinearSegmentedColormap, rgb_to_hsv, hsv_to_rgb\n",
    "import scipy.ndimage.filters\n",
    "import time\n",
    "import datetime\n",
    "import os.path\n",
    "import io\n",
    "\n",
    "import os\n",
    "os.environ[\"PATH\"] += os.pathsep + \".\"\n",
    "\n",
    "%matplotlib inline"
   ]
  },
  {
   "cell_type": "code",
   "execution_count": null,
   "metadata": {
    "ExecuteTime": {
     "end_time": "2018-11-28T20:44:11.802320Z",
     "start_time": "2018-11-28T20:43:51.495762Z"
    }
   },
   "outputs": [],
   "source": [
    "folder = 'E:\\KCL\\Project\\Cycle Hire 2021\\Weekly 2022'\n",
    "df = []\n",
    "for file in os.listdir(folder):\n",
    "    if file.endswith('.csv'):\n",
    "        print('Loading file {0}...'.format(file))\n",
    "        df.append(pd.read_csv(os.path.join(folder,file)))\n",
    "journey = pd.concat(df)"
   ]
  },
  {
   "cell_type": "code",
   "execution_count": 2,
   "metadata": {},
   "outputs": [
    {
     "ename": "NameError",
     "evalue": "name 'journey' is not defined",
     "output_type": "error",
     "traceback": [
      "\u001b[1;31m---------------------------------------------------------------------------\u001b[0m",
      "\u001b[1;31mNameError\u001b[0m                                 Traceback (most recent call last)",
      "\u001b[1;32me:\\KCL\\Project\\Cycle Hire 2021\\Final\\Part2.ipynb Cell 3\u001b[0m in \u001b[0;36m<cell line: 1>\u001b[1;34m()\u001b[0m\n\u001b[1;32m----> <a href='vscode-notebook-cell:/e%3A/KCL/Project/Cycle%20Hire%202021/Final/Part2.ipynb#W2sZmlsZQ%3D%3D?line=0'>1</a>\u001b[0m journey[\u001b[39m\"\u001b[39m\u001b[39mStart Time\u001b[39m\u001b[39m\"\u001b[39m] \u001b[39m=\u001b[39m pd\u001b[39m.\u001b[39mto_datetime(journey[\u001b[39m\"\u001b[39m\u001b[39mStart Date\u001b[39m\u001b[39m\"\u001b[39m], \u001b[39mformat\u001b[39m\u001b[39m=\u001b[39m \u001b[39m'\u001b[39m\u001b[39m%d\u001b[39;00m\u001b[39m-\u001b[39m\u001b[39m%\u001b[39m\u001b[39mm-\u001b[39m\u001b[39m%\u001b[39m\u001b[39mY \u001b[39m\u001b[39m%\u001b[39m\u001b[39mH:\u001b[39m\u001b[39m%\u001b[39m\u001b[39mM\u001b[39m\u001b[39m'\u001b[39m)\n\u001b[0;32m      <a href='vscode-notebook-cell:/e%3A/KCL/Project/Cycle%20Hire%202021/Final/Part2.ipynb#W2sZmlsZQ%3D%3D?line=1'>2</a>\u001b[0m journey[\u001b[39m\"\u001b[39m\u001b[39mEnd Time\u001b[39m\u001b[39m\"\u001b[39m] \u001b[39m=\u001b[39m pd\u001b[39m.\u001b[39mto_datetime(journey[\u001b[39m\"\u001b[39m\u001b[39mEnd Date\u001b[39m\u001b[39m\"\u001b[39m], \u001b[39mformat\u001b[39m\u001b[39m=\u001b[39m \u001b[39m'\u001b[39m\u001b[39m%d\u001b[39;00m\u001b[39m-\u001b[39m\u001b[39m%\u001b[39m\u001b[39mm-\u001b[39m\u001b[39m%\u001b[39m\u001b[39mY \u001b[39m\u001b[39m%\u001b[39m\u001b[39mH:\u001b[39m\u001b[39m%\u001b[39m\u001b[39mM\u001b[39m\u001b[39m'\u001b[39m)\n\u001b[0;32m      <a href='vscode-notebook-cell:/e%3A/KCL/Project/Cycle%20Hire%202021/Final/Part2.ipynb#W2sZmlsZQ%3D%3D?line=2'>3</a>\u001b[0m journey[\u001b[39m\"\u001b[39m\u001b[39mHour\u001b[39m\u001b[39m\"\u001b[39m] \u001b[39m=\u001b[39m journey[\u001b[39m\"\u001b[39m\u001b[39mStart Time\u001b[39m\u001b[39m\"\u001b[39m]\u001b[39m.\u001b[39mmap(\u001b[39mlambda\u001b[39;00m x: x\u001b[39m.\u001b[39mhour)\n",
      "\u001b[1;31mNameError\u001b[0m: name 'journey' is not defined"
     ]
    }
   ],
   "source": [
    "journey[\"Start Time\"] = pd.to_datetime(journey[\"Start Date\"], format= '%d-%m-%Y %H:%M')\n",
    "journey[\"End Time\"] = pd.to_datetime(journey[\"End Date\"], format= '%d-%m-%Y %H:%M')\n",
    "journey[\"Hour\"] = journey[\"Start Time\"].map(lambda x: x.hour)\n",
    "journey.head()"
   ]
  },
  {
   "cell_type": "code",
   "execution_count": null,
   "metadata": {},
   "outputs": [],
   "source": [
    "def get_kernel(kernel_size, blur=1/20, halo=.001):\n",
    "    \"\"\"\n",
    "    Create an (n*2+1)x(n*2+1) numpy array.\n",
    "    Output can be used as the kernel for convolution.\n",
    "    \"\"\"\n",
    "    \n",
    "    # generate x and y grids\n",
    "    x, y = np.mgrid[0:kernel_size*2+1, 0:kernel_size*2+1]\n",
    "    \n",
    "    center = kernel_size + 1  # center pixel\n",
    "    r = np.sqrt((x - center)**2 + (y - center)**2)  # distance from center\n",
    "    \n",
    "    # now compute the kernel. This function is a bit arbitrary. \n",
    "    # adjust this to get the effect you want.\n",
    "    kernel = np.exp(-r/kernel_size/blur) + (1 - r/r[center,0]).clip(0)*halo\n",
    "    return kernel"
   ]
  },
  {
   "cell_type": "code",
   "execution_count": null,
   "metadata": {},
   "outputs": [],
   "source": [
    "def add_lines(image_array, xys, width=1, weights=None):\n",
    "    \"\"\"\n",
    "    Add a set of lines (xys) to an existing image_array\n",
    "    width: width of lines\n",
    "    weights: [], optional list of multipliers for lines. \n",
    "    \"\"\"\n",
    "    \n",
    "    for i, xy in enumerate(xys):  # loop over lines\n",
    "        # create a new gray scale image\n",
    "        image = Image.new(\"L\",(image_array.shape[1], image_array.shape[0]))\n",
    "        \n",
    "        # draw the line\n",
    "        ImageDraw.Draw(image).line(xy, 200, width=width)\n",
    "        \n",
    "        #convert to array\n",
    "        new_image_array = np.asarray(image, dtype=np.uint8).astype(float)\n",
    "        \n",
    "        # apply weights if provided\n",
    "        if weights is not None:\n",
    "            new_image_array *= weights[i]\n",
    "            \n",
    "        # add to existing array\n",
    "        image_array += new_image_array\n",
    "\n",
    "    # convolve image\n",
    "    new_image_array = scipy.ndimage.filters.convolve(image_array, get_kernel(width*4)) \n",
    "    return new_image_array"
   ]
  },
  {
   "cell_type": "code",
   "execution_count": null,
   "metadata": {},
   "outputs": [],
   "source": [
    "def to_image(array, hue=.62):\n",
    "    \"\"\"converts an array of floats to an array of RGB values using a colormap\"\"\"\n",
    "    \n",
    "    # apply saturation function\n",
    "    image_data = np.log(array + 1)\n",
    "    \n",
    "    # create colormap, change these values to adjust to look of your plot\n",
    "    saturation_values = [[0, 0], [.75, .68], [.78, .87], [0, 1]]\n",
    "    colors = [hsv_to_rgb([hue, x, y]) for x, y in saturation_values]\n",
    "    cmap = LinearSegmentedColormap.from_list(\"my_colormap\", colors)\n",
    "    \n",
    "    # apply colormap\n",
    "    out = cmap(image_data/image_data.max())\n",
    "    \n",
    "    # convert to 8-bit unsigned integer\n",
    "    out = (out*255).astype(np.uint8)\n",
    "    return out"
   ]
  },
  {
   "cell_type": "code",
   "execution_count": null,
   "metadata": {},
   "outputs": [],
   "source": [
    "paths = journey[journey.Hour==9]\n",
    "paths = paths.iloc[:500:]\n",
    "\n",
    "# generate empty pixel array, choose your resolution\n",
    "image_data = np.zeros((500,700))\n",
    "bounds = get_min_max(journey)\n",
    "\n",
    "# generate pixel coordinates of starting points and end points\n",
    "xys = [row_to_pixel(row, image_data.shape, bounds) for i, row in paths.iterrows()]\n",
    "\n",
    "# draw the lines\n",
    "image_data = add_lines(image_data, xys, weights=None, width = 1)\n",
    "Image.fromarray(to_image(image_data*10)[:,:,:3],mode=\"RGB\")"
   ]
  },
  {
   "cell_type": "code",
   "execution_count": null,
   "metadata": {},
   "outputs": [],
   "source": [
    "def get_min_max(journey):\n",
    "    min_lat = journey[\"StartStation Latitude\"].min()\n",
    "    max_lat = journey[\"StartStation Latitude\"].max()\n",
    "    max_lon = journey[\"StartStation Longitude\"].max()\n",
    "    min_lon = journey[\"StartStation Longitude\"].min()\n",
    "    return min_lat, max_lat, min_lon, max_lon"
   ]
  },
  {
   "cell_type": "code",
   "execution_count": null,
   "metadata": {},
   "outputs": [],
   "source": [
    "def latlon_to_pixel(lat, lon, image_shape, bounds):\n",
    "    min_lat, max_lat, min_lon, max_lon = bounds\n",
    "\n",
    "    # longitude to pixel conversion (fit data to image)\n",
    "    delta_x = image_shape[1]/(max_lon-min_lon)\n",
    "    \n",
    "    # latitude to pixel conversion (maintain aspect ratio)\n",
    "    delta_y = delta_x/np.cos(lat/360*np.pi*2)\n",
    "    pixel_y = (max_lat-lat)*delta_y\n",
    "    pixel_x = (lon-min_lon)*delta_x\n",
    "    return (pixel_y,pixel_x)"
   ]
  },
  {
   "cell_type": "code",
   "execution_count": null,
   "metadata": {
    "ExecuteTime": {
     "end_time": "2018-11-28T21:09:23.421014Z",
     "start_time": "2018-11-28T21:09:23.406751Z"
    }
   },
   "outputs": [],
   "source": [
    "def get_path_progress(trips, image_time):\n",
    "    \"\"\" return a series of numbers between 0 and 1 \n",
    "    indicating the progress of each trip at the given time\"\"\"\n",
    "    \n",
    "    trip_duration = trips[\"End Time\"] - trips[\"Start Time\"]\n",
    "    path_progress = (image_time - trips[\"Start Time\"]).dt.total_seconds() / trip_duration.dt.total_seconds()\n",
    "    return path_progress\n",
    "\n",
    "def get_current_position(trips, progress):\n",
    "    \"\"\" Return Latitude and Longitude for the 'current position' of each trip.\n",
    "    Paths are assumed to be straight lines between start and end. \n",
    "    \"\"\"\n",
    "    \n",
    "    current_latitude = trips[\"StartStation Latitude\"]*(1- progress) + \\\n",
    "                       trips[\"EndStation Latitude\"]* progress\n",
    "    current_longitude = trips[\"StartStation Longitude\"]*(1- progress) + \\\n",
    "                       trips[\"EndStation Longitude\"]* progress\n",
    "    return current_latitude, current_longitude"
   ]
  },
  {
   "cell_type": "code",
   "execution_count": null,
   "metadata": {},
   "outputs": [],
   "source": [
    "def get_active_trips(image_time, journey, image_shape, line_len = .1):\n",
    "    \"\"\" Return pixel coordinates only for trips that have started and \n",
    "    not yet completed for the given time.\n",
    "    \"\"\"\n",
    "    \n",
    "    bounds = get_min_max(journey)\n",
    "    \n",
    "    active_trips = journey[(journey[\"Start Time\"]<=image_time)]\n",
    "    active_trips = active_trips[(active_trips[\"End Time\"]>=image_time)].copy()\n",
    "    \n",
    "    progress = get_path_progress(active_trips, image_time)\n",
    "    \n",
    "    current_latitude, current_longitude = get_current_position(active_trips, progress)\n",
    "    start_latitude, start_longitude = get_current_position(active_trips, np.clip(progress-line_len, 0, 1))\n",
    "    \n",
    "    start_y, start_x = latlon_to_pixel(start_latitude, \n",
    "                                          start_longitude, \n",
    "                                          image_shape,\n",
    "                                          bounds)\n",
    "    \n",
    "    end_y, end_x = latlon_to_pixel(current_latitude, \n",
    "                                      current_longitude, \n",
    "                                      image_shape,\n",
    "                                      bounds)\n",
    "    xys = list(zip(start_x, start_y, end_x, end_y))\n",
    "    weights = np.clip((1 - progress.values)*100, 0, 1)\n",
    "    \n",
    "    return xys, weights"
   ]
  },
  {
   "cell_type": "code",
   "execution_count": null,
   "metadata": {
    "ExecuteTime": {
     "end_time": "2018-11-28T21:09:23.431925Z",
     "start_time": "2018-11-28T21:09:23.423952Z"
    }
   },
   "outputs": [],
   "source": [
    "def row_to_pixel(row, image_shape, bounds):\n",
    "    \"\"\"\n",
    "    convert a row (1 trip) to pixel coordinates\n",
    "    of start and end point\n",
    "    \"\"\"\n",
    "    start_y, start_x = latlon_to_pixel(row[\"StartStation Latitude\"], \n",
    "                                          row[\"StartStation Longitude\"], \n",
    "                                          image_shape,\n",
    "                                          bounds)\n",
    "    end_y, end_x = latlon_to_pixel(row[\"EndStation Latitude\"], \n",
    "                                      row[\"EndStation Longitude\"], \n",
    "                                      image_shape,\n",
    "                                      bounds)\n",
    "    xy = (start_x, start_y, end_x, end_y)\n",
    "    return xy"
   ]
  },
  {
   "cell_type": "code",
   "execution_count": null,
   "metadata": {},
   "outputs": [],
   "source": [
    "def add_alpha(image_data):\n",
    "    \"\"\"\n",
    "    Uses the Value in HSV as an alpha channel. \n",
    "    This creates an image that blends nicely with a black background.\n",
    "    \"\"\"\n",
    "    \n",
    "    # get hsv image\n",
    "    hsv = rgb_to_hsv(image_data[:,:,:3].astype(float)/255)\n",
    "    \n",
    "    # create new image and set alpha channel\n",
    "    new_image_data = np.zeros(image_data.shape)\n",
    "    new_image_data[:,:,3] = hsv[:,:,2]\n",
    "    \n",
    "    # set value of hsv image to either 0 or 1.\n",
    "    hsv[:,:,2] = np.where(hsv[:,:,2]>0, 1, 0)\n",
    "    \n",
    "    # combine alpha and new rgb\n",
    "    new_image_data[:,:,:3] = hsv_to_rgb(hsv)\n",
    "    return new_image_data"
   ]
  },
  {
   "cell_type": "code",
   "execution_count": null,
   "metadata": {
    "ExecuteTime": {
     "end_time": "2018-11-28T21:09:23.453657Z",
     "start_time": "2018-11-28T21:09:23.444236Z"
    }
   },
   "outputs": [],
   "source": [
    "def create_image_map(image_data, bounds):\n",
    "    min_lat, max_lat, min_lon, max_lon = bounds\n",
    "    folium_map = folium.Map(location=[51.47, -0.140],\n",
    "                            zoom_start=12,\n",
    "                            tiles=\"CartoDB dark_matter\",\n",
    "                            width='100%')\n",
    "\n",
    "    # create the overlay\n",
    "    map_overlay = add_alpha(to_image(image_data))\n",
    "\n",
    "    # compute extent of image in lat/lon\n",
    "    aspect_ratio = map_overlay.shape[1]/map_overlay.shape[0]\n",
    "    delta_lat = (max_lon-min_lon)/aspect_ratio*np.cos(min_lat/360*2*np.pi)\n",
    "\n",
    "    # add the image to the map\n",
    "    img = folium.raster_layers.ImageOverlay(map_overlay,\n",
    "                               bounds = [(max_lat-delta_lat,min_lon),(max_lat,max_lon)],\n",
    "                               opacity = 1,\n",
    "                               name = \"Paths\")\n",
    "\n",
    "    img.add_to(folium_map)\n",
    "    folium.LayerControl().add_to(folium_map)\n",
    "\n",
    "    # return the map\n",
    "    return folium_map"
   ]
  },
  {
   "cell_type": "code",
   "execution_count": null,
   "metadata": {},
   "outputs": [],
   "source": [
    "def get_image_map(frame_time, journey):\n",
    "    \"\"\"Create the folium map for the given time\"\"\"\n",
    "    \n",
    "    image_data = np.zeros((600*2,600*2))\n",
    "    bounds = get_min_max(journey)\n",
    "    \n",
    "    # plot the current locations\n",
    "    xys, weights = get_active_trips(frame_time, journey, image_data.shape, line_len=.01)\n",
    "    image_data = add_lines(image_data, xys, weights=weights*20, width = 4)\n",
    "    \n",
    "    #  plot the paths\n",
    "    xys, weights = get_active_trips(frame_time, journey, image_data.shape, line_len=1)\n",
    "    image_data = add_lines(image_data, xys, weights=weights*10, width = 2)\n",
    "    \n",
    "    # generate and return the folium map.\n",
    "    return create_image_map(image_data, bounds)"
   ]
  },
  {
   "cell_type": "code",
   "execution_count": null,
   "metadata": {
    "ExecuteTime": {
     "end_time": "2018-11-28T21:09:49.959291Z",
     "start_time": "2018-11-28T21:09:23.462435Z"
    },
    "scrolled": false
   },
   "outputs": [],
   "source": [
    "get_image_map(pd.to_datetime('2022-06-01 13:00:00'), journey)"
   ]
  },
  {
   "cell_type": "code",
   "execution_count": null,
   "metadata": {
    "ExecuteTime": {
     "end_time": "2018-11-28T21:09:49.975602Z",
     "start_time": "2018-11-28T21:09:49.965647Z"
    }
   },
   "outputs": [],
   "source": [
    "def go_paths_frame(params):\n",
    "    \"\"\"Similar to go_arrivals_frame.\n",
    "    Generate the image, add annotations, and save image file.\"\"\"\n",
    "    i, frame_time = params\n",
    "    \n",
    "    my_frame = get_image_map(frame_time, journey)\n",
    "    png = my_frame._to_png()\n",
    "    \n",
    "    image = Image.open(io.BytesIO(png))\n",
    "    draw = ImageDraw.ImageDraw(image)\n",
    "    font = ImageFont.truetype(\"arial.ttf\", 30)\n",
    "    \n",
    "    # add date and time of day text\n",
    "    draw.text((20, image.height - 50), \n",
    "              \"time: {}\".format(frame_time),\n",
    "              fill=(255, 255, 255), \n",
    "              font=font)\n",
    "    \n",
    "    # draw title\n",
    "    draw.text((image.width - 1300,20), \n",
    "              \"Paths of Individual Bike Trips\",\n",
    "              fill=(255, 255, 255), \n",
    "              font=font)\n",
    "    \n",
    "    # write to a png file\n",
    "    dir_name = \"path_frames\"\n",
    "    if not os.path.exists(dir_name):\n",
    "        os.mkdir(dir_name)\n",
    "    image.save(os.path.join(dir_name, \"frame_{:0>5}.png\".format(i)), \"PNG\")\n",
    "    return image"
   ]
  },
  {
   "cell_type": "code",
   "execution_count": null,
   "metadata": {
    "ExecuteTime": {
     "end_time": "2018-11-28T21:10:31.382319Z",
     "start_time": "2018-11-28T21:09:49.978328Z"
    },
    "scrolled": false
   },
   "outputs": [],
   "source": [
    "# an example output.\n",
    "go_paths_frame((1, pd.to_datetime('2022-06-01 13:00:00')))"
   ]
  },
  {
   "cell_type": "markdown",
   "metadata": {
    "ExecuteTime": {
     "end_time": "2018-11-28T22:22:28.545043Z",
     "start_time": "2018-11-28T21:10:31.385033Z"
    }
   },
   "source": [
    "start_time = pd.to_datetime('2022-06-01 13:00:00')\n",
    "frame_times = [(i, start_time + datetime.timedelta(seconds=30*i)) for i in range(int(120))]\n",
    "t0 = time.time()\n",
    "list(map(go_paths_frame,frame_times))\n",
    "print(\"time elapsed: {}\".format(time.time()-t0))"
   ]
  },
  {
   "cell_type": "markdown",
   "metadata": {},
   "source": [
    "frames_to_redo = [51, 108]\n",
    "for frame in frames_to_redo:\n",
    "    go_paths_frame(frame_times[frame])"
   ]
  }
 ],
 "metadata": {
  "kernelspec": {
   "display_name": "Python 3.10.5 64-bit",
   "language": "python",
   "name": "python3"
  },
  "language_info": {
   "codemirror_mode": {
    "name": "ipython",
    "version": 3
   },
   "file_extension": ".py",
   "mimetype": "text/x-python",
   "name": "python",
   "nbconvert_exporter": "python",
   "pygments_lexer": "ipython3",
   "version": "3.10.5"
  },
  "varInspector": {
   "cols": {
    "lenName": 16,
    "lenType": 16,
    "lenVar": 40
   },
   "kernels_config": {
    "python": {
     "delete_cmd_postfix": "",
     "delete_cmd_prefix": "del ",
     "library": "var_list.py",
     "varRefreshCmd": "print(var_dic_list())"
    },
    "r": {
     "delete_cmd_postfix": ") ",
     "delete_cmd_prefix": "rm(",
     "library": "var_list.r",
     "varRefreshCmd": "cat(var_dic_list()) "
    }
   },
   "types_to_exclude": [
    "module",
    "function",
    "builtin_function_or_method",
    "instance",
    "_Feature"
   ],
   "window_display": false
  },
  "vscode": {
   "interpreter": {
    "hash": "b7377f19eab4b8c2e19b4d5b732c435591579d0f123dd21b146d33dfd161e508"
   }
  }
 },
 "nbformat": 4,
 "nbformat_minor": 2
}
